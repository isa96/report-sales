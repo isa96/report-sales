{
 "cells": [
  {
   "cell_type": "code",
   "execution_count": 158,
   "id": "ef04d668",
   "metadata": {},
   "outputs": [],
   "source": [
    "import pandas as pd\n",
    "from openpyxl import Workbook\n",
    "import openpyxl\n",
    "from openpyxl import load_workbook\n",
    "from openpyxl.styles import *\n",
    "from openpyxl.chart import *\n",
    "from openpyxl.chart.shapes import GraphicalProperties\n",
    "from openpyxl.chart.label import DataLabelList\n",
    "\n",
    "import string\n",
    "import os"
   ]
  },
  {
   "cell_type": "markdown",
   "id": "e845a56a",
   "metadata": {},
   "source": [
    "Jika pandas dan openpyxl belum terinstall, dapat dengan mudah diinstall menggunakan command pip3 install pandas dan pip3 install openpyxl"
   ]
  },
  {
   "cell_type": "code",
   "execution_count": 72,
   "id": "7b89dc66",
   "metadata": {},
   "outputs": [
    {
     "data": {
      "text/plain": [
       "'/Users/anggapradiktas/Documents/notebooks'"
      ]
     },
     "execution_count": 72,
     "metadata": {},
     "output_type": "execute_result"
    }
   ],
   "source": [
    "os.getcwd()"
   ]
  },
  {
   "cell_type": "code",
   "execution_count": 73,
   "id": "e0c941c0",
   "metadata": {},
   "outputs": [
    {
     "data": {
      "text/html": [
       "<div>\n",
       "<style scoped>\n",
       "    .dataframe tbody tr th:only-of-type {\n",
       "        vertical-align: middle;\n",
       "    }\n",
       "\n",
       "    .dataframe tbody tr th {\n",
       "        vertical-align: top;\n",
       "    }\n",
       "\n",
       "    .dataframe thead th {\n",
       "        text-align: right;\n",
       "    }\n",
       "</style>\n",
       "<table border=\"1\" class=\"dataframe\">\n",
       "  <thead>\n",
       "    <tr style=\"text-align: right;\">\n",
       "      <th></th>\n",
       "      <th>Gender</th>\n",
       "      <th>Product line</th>\n",
       "      <th>Total</th>\n",
       "    </tr>\n",
       "  </thead>\n",
       "  <tbody>\n",
       "    <tr>\n",
       "      <th>0</th>\n",
       "      <td>Female</td>\n",
       "      <td>Health and beauty</td>\n",
       "      <td>548.9715</td>\n",
       "    </tr>\n",
       "    <tr>\n",
       "      <th>1</th>\n",
       "      <td>Female</td>\n",
       "      <td>Electronic accessories</td>\n",
       "      <td>80.2200</td>\n",
       "    </tr>\n",
       "    <tr>\n",
       "      <th>2</th>\n",
       "      <td>Male</td>\n",
       "      <td>Home and lifestyle</td>\n",
       "      <td>340.5255</td>\n",
       "    </tr>\n",
       "    <tr>\n",
       "      <th>3</th>\n",
       "      <td>Male</td>\n",
       "      <td>Health and beauty</td>\n",
       "      <td>489.0480</td>\n",
       "    </tr>\n",
       "    <tr>\n",
       "      <th>4</th>\n",
       "      <td>Male</td>\n",
       "      <td>Sports and travel</td>\n",
       "      <td>634.3785</td>\n",
       "    </tr>\n",
       "  </tbody>\n",
       "</table>\n",
       "</div>"
      ],
      "text/plain": [
       "   Gender            Product line     Total\n",
       "0  Female       Health and beauty  548.9715\n",
       "1  Female  Electronic accessories   80.2200\n",
       "2    Male      Home and lifestyle  340.5255\n",
       "3    Male       Health and beauty  489.0480\n",
       "4    Male       Sports and travel  634.3785"
      ]
     },
     "execution_count": 73,
     "metadata": {},
     "output_type": "execute_result"
    }
   ],
   "source": [
    "df_excel = pd.read_excel('data/supermarket_sales.xlsx')\n",
    "df_excel[['Gender', 'Product line', 'Total']].head()"
   ]
  },
  {
   "cell_type": "markdown",
   "id": "411c72e3",
   "metadata": {},
   "source": [
    "Pivot Table"
   ]
  },
  {
   "cell_type": "code",
   "execution_count": 74,
   "id": "0de8a740",
   "metadata": {},
   "outputs": [],
   "source": [
    "report_table = df_excel.pivot_table(index='Gender',\n",
    "                                  columns='Product line',\n",
    "                                  values='Total',\n",
    "                                  aggfunc='sum').round(0)"
   ]
  },
  {
   "cell_type": "code",
   "execution_count": 75,
   "id": "98a53ffa",
   "metadata": {},
   "outputs": [
    {
     "data": {
      "text/html": [
       "<div>\n",
       "<style scoped>\n",
       "    .dataframe tbody tr th:only-of-type {\n",
       "        vertical-align: middle;\n",
       "    }\n",
       "\n",
       "    .dataframe tbody tr th {\n",
       "        vertical-align: top;\n",
       "    }\n",
       "\n",
       "    .dataframe thead th {\n",
       "        text-align: right;\n",
       "    }\n",
       "</style>\n",
       "<table border=\"1\" class=\"dataframe\">\n",
       "  <thead>\n",
       "    <tr style=\"text-align: right;\">\n",
       "      <th>Product line</th>\n",
       "      <th>Electronic accessories</th>\n",
       "      <th>Fashion accessories</th>\n",
       "      <th>Food and beverages</th>\n",
       "      <th>Health and beauty</th>\n",
       "      <th>Home and lifestyle</th>\n",
       "      <th>Sports and travel</th>\n",
       "    </tr>\n",
       "    <tr>\n",
       "      <th>Gender</th>\n",
       "      <th></th>\n",
       "      <th></th>\n",
       "      <th></th>\n",
       "      <th></th>\n",
       "      <th></th>\n",
       "      <th></th>\n",
       "    </tr>\n",
       "  </thead>\n",
       "  <tbody>\n",
       "    <tr>\n",
       "      <th>Female</th>\n",
       "      <td>27102.0</td>\n",
       "      <td>30437.0</td>\n",
       "      <td>33171.0</td>\n",
       "      <td>18561.0</td>\n",
       "      <td>30037.0</td>\n",
       "      <td>28575.0</td>\n",
       "    </tr>\n",
       "    <tr>\n",
       "      <th>Male</th>\n",
       "      <td>27236.0</td>\n",
       "      <td>23868.0</td>\n",
       "      <td>22974.0</td>\n",
       "      <td>30633.0</td>\n",
       "      <td>23825.0</td>\n",
       "      <td>26548.0</td>\n",
       "    </tr>\n",
       "  </tbody>\n",
       "</table>\n",
       "</div>"
      ],
      "text/plain": [
       "Product line  Electronic accessories  Fashion accessories  Food and beverages  \\\n",
       "Gender                                                                          \n",
       "Female                       27102.0              30437.0             33171.0   \n",
       "Male                         27236.0              23868.0             22974.0   \n",
       "\n",
       "Product line  Health and beauty  Home and lifestyle  Sports and travel  \n",
       "Gender                                                                  \n",
       "Female                  18561.0             30037.0            28575.0  \n",
       "Male                    30633.0             23825.0            26548.0  "
      ]
     },
     "execution_count": 75,
     "metadata": {},
     "output_type": "execute_result"
    }
   ],
   "source": [
    "report_table"
   ]
  },
  {
   "cell_type": "code",
   "execution_count": 76,
   "id": "d5051aae",
   "metadata": {},
   "outputs": [],
   "source": [
    "report_table.to_excel('output/report_2021.xlsx',\n",
    "                      sheet_name='Report',\n",
    "                      startrow=4)"
   ]
  },
  {
   "cell_type": "markdown",
   "id": "ebbe27fb",
   "metadata": {},
   "source": [
    "create row & column"
   ]
  },
  {
   "cell_type": "code",
   "execution_count": 86,
   "id": "bcfe29e2",
   "metadata": {},
   "outputs": [],
   "source": [
    "wb = load_workbook('output/report_2021.xlsx')\n",
    "wb.active = wb['Report']\n",
    "# sheet = wb['Report']\n",
    "# cell references (original spreadsheet) \n",
    "min_column = wb.active.min_column\n",
    "max_column = wb.active.max_column\n",
    "min_row = wb.active.min_row\n",
    "max_row = wb.active.max_row"
   ]
  },
  {
   "cell_type": "code",
   "execution_count": 89,
   "id": "fbf2e153",
   "metadata": {},
   "outputs": [
    {
     "name": "stdout",
     "output_type": "stream",
     "text": [
      "\n",
      "min_column: 1\n",
      "max_column: 7\n",
      "min_row: 5\n",
      "max_row: 7\n",
      "    \n"
     ]
    }
   ],
   "source": [
    "print(\"\"\"\n",
    "min_column: {0}\n",
    "max_column: {1}\n",
    "min_row: {2}\n",
    "max_row: {3}\n",
    "    \"\"\".format(min_column,max_column,min_row,max_row))"
   ]
  },
  {
   "cell_type": "markdown",
   "id": "c3fba6cb",
   "metadata": {},
   "source": [
    "Buat excel chart melalui python"
   ]
  },
  {
   "cell_type": "code",
   "execution_count": 111,
   "id": "d8fa0430",
   "metadata": {},
   "outputs": [],
   "source": [
    "wb = load_workbook('output/report_2021.xlsx')\n",
    "wb.active = wb['Report']\n",
    "sheet = wb['Report']\n",
    "\n",
    "# barchart\n",
    "barchart = BarChart()\n",
    "\n",
    "#locate data and categories\n",
    "data = Reference(sheet,\n",
    "                 min_col=min_column+1,\n",
    "                 max_col=max_column,\n",
    "                 min_row=min_row,\n",
    "                 max_row=max_row) #including headers\n",
    "categories = Reference(sheet,\n",
    "                       min_col=min_column,\n",
    "                       max_col=min_column,\n",
    "                       min_row=min_row+1,\n",
    "                       max_row=max_row) #not including headers\n",
    "\n",
    "# adding data and categories\n",
    "barchart.add_data(data, titles_from_data=True)\n",
    "barchart.set_categories(categories)\n",
    "# props = GraphicalProperties(solidFill=\"000000\") \n",
    "# barchart.plot_area.graphicalProperties = props\n",
    "\n",
    "#location chart\n",
    "sheet.add_chart(barchart, \"B12\")\n",
    "barchart.title = 'Sales by Product line'\n",
    "barchart.style = 2 #choose the chart style\n",
    "wb.save('output/report_2021.xlsx')"
   ]
  },
  {
   "cell_type": "markdown",
   "id": "a383c732",
   "metadata": {},
   "source": [
    "Penjelasan code:\n",
    "https://openpyxl.readthedocs.io/en/stable/styles.html#colours\n",
    "\n",
    "- barchart = BarChart() memanggil barchart variable dari Barchart class\n",
    "- data & categories adalah variables yang menunjukkan data informasi grafik tsb. Kita menggunakan column & row references supaya tidak perlu melakukan hardcode lagi. Header juga kita munculkan pada data. \n",
    "- add_data & set_categories digunakan untuk menambahkan data ke grafik. Didalam add_data titles_from_data=True berarti kita juga memasukkan header\n",
    "- sheet.add_chart digunakan untuk menambahkan grafik ke excel file.\n",
    "- barchart.title & barchart.style dapat digunakan untuk mengubah judul dan jenis grafik\n",
    "- wb.save() digunakan untuk menyimpan semua perubahan"
   ]
  },
  {
   "cell_type": "markdown",
   "id": "77c08832",
   "metadata": {},
   "source": [
    "Applying Excel formulas through Python"
   ]
  },
  {
   "cell_type": "code",
   "execution_count": 33,
   "id": "52095be9",
   "metadata": {},
   "outputs": [
    {
     "name": "stdout",
     "output_type": "stream",
     "text": [
      "['A', 'B', 'C', 'D', 'E', 'F', 'G']\n"
     ]
    }
   ],
   "source": [
    "import string\n",
    "alphabet = list(string.ascii_uppercase)\n",
    "excel_alphabet = alphabet[0:max_column] \n",
    "print(excel_alphabet)"
   ]
  },
  {
   "cell_type": "code",
   "execution_count": 39,
   "id": "22eb4cb7",
   "metadata": {},
   "outputs": [],
   "source": [
    "wb = load_workbook('output/report_2021.xlsx')\n",
    "sheet = wb['Report']\n",
    "# sum in columns B-G\n",
    "for i in excel_alphabet:\n",
    "    if i!='A':\n",
    "        sheet[f'{i}{max_row+1}'] = f'=SUM({i}{min_row+1}:{i}{max_row})'\n",
    "        sheet[f'{i}{max_row+1}'].style = 'Currency'\n",
    "# adding total label\n",
    "sheet[f'{excel_alphabet[0]}{max_row+1}'] = 'Total'\n",
    "wb.save('output/report_2021.xlsx')"
   ]
  },
  {
   "cell_type": "markdown",
   "id": "ea75beca",
   "metadata": {},
   "source": [
    "Formatting the report sheet"
   ]
  },
  {
   "cell_type": "code",
   "execution_count": 36,
   "id": "0f110c3a",
   "metadata": {},
   "outputs": [],
   "source": [
    "wb = load_workbook('output/report_2021.xlsx')\n",
    "sheet = wb['Report']\n",
    "sheet['A1'] = 'Sales Report'\n",
    "sheet['A2'] = '2021'\n",
    "sheet['A1'].font = Font('Arial', bold=True, size=20)\n",
    "sheet['A2'].font = Font('Arial', bold=True, size=10)\n",
    "wb.save('output/report_2021.xlsx')\n"
   ]
  },
  {
   "cell_type": "markdown",
   "id": "7885a638",
   "metadata": {},
   "source": [
    "Workbook 2"
   ]
  },
  {
   "cell_type": "code",
   "execution_count": 67,
   "id": "4f9bbd8b",
   "metadata": {},
   "outputs": [],
   "source": [
    "report_table_2 = df_excel[['City', 'Total']].groupby(['City']).sum().round(0)"
   ]
  },
  {
   "cell_type": "code",
   "execution_count": 98,
   "id": "7fd9b61f",
   "metadata": {},
   "outputs": [],
   "source": [
    "# Calculating Percentage\n",
    "report_table_2['percent'] = ((report_table_2['Total'] / report_table_2['Total'].sum()) * 100).round(0)"
   ]
  },
  {
   "cell_type": "code",
   "execution_count": 105,
   "id": "3eed345b",
   "metadata": {},
   "outputs": [
    {
     "data": {
      "text/html": [
       "<div>\n",
       "<style scoped>\n",
       "    .dataframe tbody tr th:only-of-type {\n",
       "        vertical-align: middle;\n",
       "    }\n",
       "\n",
       "    .dataframe tbody tr th {\n",
       "        vertical-align: top;\n",
       "    }\n",
       "\n",
       "    .dataframe thead th {\n",
       "        text-align: right;\n",
       "    }\n",
       "</style>\n",
       "<table border=\"1\" class=\"dataframe\">\n",
       "  <thead>\n",
       "    <tr style=\"text-align: right;\">\n",
       "      <th></th>\n",
       "      <th>percent</th>\n",
       "    </tr>\n",
       "    <tr>\n",
       "      <th>City</th>\n",
       "      <th></th>\n",
       "    </tr>\n",
       "  </thead>\n",
       "  <tbody>\n",
       "    <tr>\n",
       "      <th>Mandalay</th>\n",
       "      <td>33.0</td>\n",
       "    </tr>\n",
       "    <tr>\n",
       "      <th>Naypyitaw</th>\n",
       "      <td>34.0</td>\n",
       "    </tr>\n",
       "    <tr>\n",
       "      <th>Yangon</th>\n",
       "      <td>33.0</td>\n",
       "    </tr>\n",
       "  </tbody>\n",
       "</table>\n",
       "</div>"
      ],
      "text/plain": [
       "           percent\n",
       "City              \n",
       "Mandalay      33.0\n",
       "Naypyitaw     34.0\n",
       "Yangon        33.0"
      ]
     },
     "execution_count": 105,
     "metadata": {},
     "output_type": "execute_result"
    }
   ],
   "source": [
    "del report_table_2['Total']\n",
    "report_table_2"
   ]
  },
  {
   "cell_type": "code",
   "execution_count": 106,
   "id": "c01cdc0e",
   "metadata": {},
   "outputs": [],
   "source": [
    "report_table_2.to_excel('output/report_2021.xlsx',\n",
    "                      sheet_name='City',\n",
    "                      startrow=4)"
   ]
  },
  {
   "cell_type": "code",
   "execution_count": 107,
   "id": "0b3f0652",
   "metadata": {},
   "outputs": [],
   "source": [
    "with pd.ExcelWriter('output/report_2021.xlsx') as writer:  \n",
    "    report_table.to_excel(writer, sheet_name='Report', startrow=4)\n",
    "    report_table_2.to_excel(writer, sheet_name='City', startrow=4)"
   ]
  },
  {
   "cell_type": "code",
   "execution_count": 108,
   "id": "6bf36e35",
   "metadata": {},
   "outputs": [],
   "source": [
    "wb = load_workbook('output/report_2021.xlsx')\n",
    "wb.active = wb['City']\n",
    "# cell references (original spreadsheet) \n",
    "min_column_2 = wb.active.min_column\n",
    "max_column_2 = wb.active.max_column\n",
    "min_row_2 = wb.active.min_row\n",
    "max_row_2 = wb.active.max_row"
   ]
  },
  {
   "cell_type": "code",
   "execution_count": 109,
   "id": "d3615f35",
   "metadata": {},
   "outputs": [
    {
     "name": "stdout",
     "output_type": "stream",
     "text": [
      "\n",
      "min_column_2: 1\n",
      "max_column_2: 2\n",
      "min_row_2: 5\n",
      "max_row_2: 8\n",
      "    \n"
     ]
    }
   ],
   "source": [
    "print(\"\"\"\n",
    "min_column_2: {0}\n",
    "max_column_2: {1}\n",
    "min_row_2: {2}\n",
    "max_row_2: {3}\n",
    "    \"\"\".format(min_column_2, max_column_2, min_row_2, max_row_2))"
   ]
  },
  {
   "cell_type": "code",
   "execution_count": 110,
   "id": "c60557b8",
   "metadata": {},
   "outputs": [],
   "source": [
    "wb = load_workbook('output/report_2021.xlsx')\n",
    "wb.active = wb['City']\n",
    "sheet_2 = wb['City']\n",
    "\n",
    "# piechart\n",
    "piechart = PieChart3D()\n",
    "\n",
    "#locate data and categories\n",
    "data_2 = Reference(sheet_2,\n",
    "                 min_col=min_column_2+1,\n",
    "                 max_col=max_column_2,\n",
    "                 min_row=min_row_2,\n",
    "                 max_row=max_row_2) #including headers\n",
    "categories_2 = Reference(sheet_2,\n",
    "                       min_col=min_column_2,\n",
    "                       max_col=min_column_2,\n",
    "                       min_row=min_row_2+1,\n",
    "                       max_row=max_row_2) #not including headers\n",
    "\n",
    "# adding data and categories\n",
    "piechart.add_data(data_2, titles_from_data=True)\n",
    "piechart.set_categories(categories_2)\n",
    "piechart.dataLabels = DataLabelList() \n",
    "piechart.dataLabels.showVal = True\n",
    "\n",
    "#location chart\n",
    "sheet_2.add_chart(piechart, \"B12\")\n",
    "piechart.title = 'Sales by Region'\n",
    "piechart.style = 2 #choose the chart style\n",
    "wb.save('output/report_2021.xlsx')"
   ]
  },
  {
   "cell_type": "markdown",
   "id": "a3f6a4f0",
   "metadata": {},
   "source": [
    "Membuat function dari code diatas"
   ]
  },
  {
   "cell_type": "code",
   "execution_count": 181,
   "id": "4b4af8d6",
   "metadata": {},
   "outputs": [],
   "source": [
    "# def create_excel_file(file_name, sheet_name):\n",
    "#     wb = Workbook()\n",
    "#     wb.create_sheet(sheet_name)\n",
    "#     month_and_extension = file_name.split('_')[1]\n",
    "#     excel_filename = f'output/report_{month_and_extension}'\n",
    "#     wb.save(excel_filename)\n",
    "#     return excel_filename"
   ]
  },
  {
   "cell_type": "code",
   "execution_count": 182,
   "id": "4e9cf9ea",
   "metadata": {},
   "outputs": [
    {
     "data": {
      "text/plain": [
       "'output/report_2021.xlsx'"
      ]
     },
     "execution_count": 182,
     "metadata": {},
     "output_type": "execute_result"
    }
   ],
   "source": [
    "# create_excel_file('data/sales_2021.xlsx', 'Product line')"
   ]
  },
  {
   "cell_type": "code",
   "execution_count": 193,
   "id": "4c4047e7",
   "metadata": {},
   "outputs": [],
   "source": [
    "def automate_excel(file_name, sheet_name, index, chart_style, columns=None):\n",
    "    \"\"\"The file name should have the following structure: sales_month.xlsx\"\"\"\n",
    "    # read excel file\n",
    "    excel_file = pd.read_excel(file_name)\n",
    "    # make pivot table\n",
    "    report_table = excel_file.pivot_table(index=index, columns=columns, values='Total', aggfunc='sum').round(0)\n",
    "    # splitting the month and extension from the file name\n",
    "    month_and_extension = file_name.split('_')[1]\n",
    "\n",
    "    # send the report table to excel file\n",
    "    try:\n",
    "        with pd.ExcelWriter(f'output/report_{month_and_extension}', mode='a', if_sheet_exists='replace') as writer:\n",
    "            report_table.to_excel(writer, sheet_name=sheet_name, startrow=4)\n",
    "    except KeyError:\n",
    "        with pd.ExcelWriter(f'output/report_{month_and_extension}') as writer:\n",
    "            report_table.to_excel(writer, sheet_name=sheet_name, startrow=4)\n",
    "    # loading workbook and selecting sheet\n",
    "    wb = load_workbook(f'output/report_{month_and_extension}')\n",
    "    if 'Sheet' in wb.sheetnames:\n",
    "        wb.remove(wb['Sheet'])\n",
    "    wb.active = wb[sheet_name]\n",
    "    sheet = wb[sheet_name]\n",
    "    # cell references (original spreadsheet)\n",
    "    min_column = wb.active.min_column\n",
    "    max_column = wb.active.max_column\n",
    "    min_row = wb.active.min_row\n",
    "    max_row = wb.active.max_row\n",
    "    # adding a chart\n",
    "    chart_style = chart_style #BarChart()\n",
    "    data = Reference(sheet, min_col=min_column+1, max_col=max_column, min_row=min_row, max_row=max_row) #including headers\n",
    "    categories = Reference(sheet, min_col=min_column, max_col=min_column, min_row=min_row+1, max_row=max_row) #not including headers\n",
    "    chart_style.add_data(data, titles_from_data=True)\n",
    "    chart_style.set_categories(categories)\n",
    "    sheet.add_chart(chart_style, \"B12\") #location chart\n",
    "    chart_style.title = 'Sales by {}'.format(sheet_name)\n",
    "    chart_style.style = 2 #choose the chart style\n",
    "    # applying formulas\n",
    "    # first create alphabet list as references for cells\n",
    "    alphabet = list(string.ascii_uppercase)\n",
    "    excel_alphabet = alphabet[0:max_column] #note: Python lists start on 0 -> A=0, B=1, C=2. #note2 the [a:b] takes b-a elements\n",
    "    # sum in columns B-G\n",
    "    for i in excel_alphabet:\n",
    "        if i!='A':\n",
    "            sheet[f'{i}{max_row+1}'] = f'=SUM({i}{min_row+1}:{i}{max_row})'\n",
    "            sheet[f'{i}{max_row+1}'].style = 'Currency'\n",
    "    sheet[f'{excel_alphabet[0]}{max_row+1}'] = 'Total'\n",
    "    # getting month name\n",
    "    month_name = month_and_extension.split('.')[0]\n",
    "    # formatting the report\n",
    "    sheet['A1'] = 'Sales Report'\n",
    "    sheet['A2'] = month_name.title()\n",
    "    sheet['A1'].font = Font('Arial', bold=True, size=20)\n",
    "    sheet['A2'].font = Font('Arial', bold=True, size=10)\n",
    "    wb.save(f'output/report_{month_and_extension}')\n",
    "    "
   ]
  },
  {
   "cell_type": "code",
   "execution_count": 194,
   "id": "611da18b",
   "metadata": {},
   "outputs": [],
   "source": [
    "automate_excel('data/sales_2021.xlsx', 'Product line', 'Gender', BarChart(), 'Product line')"
   ]
  },
  {
   "cell_type": "code",
   "execution_count": 195,
   "id": "f8a8d790",
   "metadata": {},
   "outputs": [],
   "source": [
    "automate_excel('data/sales_2021.xlsx', 'City', 'City', PieChart())"
   ]
  },
  {
   "cell_type": "markdown",
   "id": "1e1ed619",
   "metadata": {},
   "source": [
    "References:\n",
    "- https://pandas.pydata.org/pandas-docs/stable/reference/api/pandas.ExcelWriter.html\n",
    "- https://openpyxl.readthedocs.io/en/latest/charts/pie.html"
   ]
  },
  {
   "cell_type": "code",
   "execution_count": null,
   "id": "db144de0",
   "metadata": {},
   "outputs": [],
   "source": []
  }
 ],
 "metadata": {
  "kernelspec": {
   "display_name": "Python 3 (ipykernel)",
   "language": "python",
   "name": "python3"
  },
  "language_info": {
   "codemirror_mode": {
    "name": "ipython",
    "version": 3
   },
   "file_extension": ".py",
   "mimetype": "text/x-python",
   "name": "python",
   "nbconvert_exporter": "python",
   "pygments_lexer": "ipython3",
   "version": "3.9.5"
  }
 },
 "nbformat": 4,
 "nbformat_minor": 5
}
